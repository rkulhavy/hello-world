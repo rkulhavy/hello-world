{
 "cells": [
  {
   "cell_type": "code",
   "execution_count": 1,
   "metadata": {
    "collapsed": false
   },
   "outputs": [
    {
     "name": "stdout",
     "output_type": "stream",
     "text": [
      "Marking com.quantifind:wisp_2.10:0.0.4 for download\n",
      "Preparing to fetch from:\n",
      "-> file:/tmp/toree_add_deps7437035003809457425/\n",
      "-> https://repo1.maven.org/maven2\n",
      "=> 1 (): Downloading https://repo1.maven.org/maven2/com/quantifind/wisp_2.10/0.0.4/wisp_2.10-0.0.4.pom\n",
      "=> 1 (): Downloading https://repo1.maven.org/maven2/com/quantifind/wisp_2.10/0.0.4/wisp_2.10-0.0.4.pom.sha1\n",
      "=> 1: An error occurred while downloading\n",
      "=> 1: An error occurred while downloading\n",
      "=> 2 (): Downloading https://repo1.maven.org/maven2/com/quantifind/wisp_2.10/0.0.4/maven-metadata.xml.sha1\n",
      "=> 3 (): Downloading https://repo1.maven.org/maven2/com/quantifind/wisp_2.10/0.0.4/maven-metadata.xml\n",
      "=> 2: An error occurred while downloading\n",
      "=> 3: An error occurred while downloading\n",
      "-> Failed to resolve com.quantifind:wisp_2.10:0.0.4\n",
      "    -> Not found: /tmp/toree_add_deps7437035003809457425/cache/com.quantifind/wisp_2.10/ivy-0.0.4.xml\n",
      "    -> Download error: Caught java.net.UnknownHostException: repo1.maven.org (repo1.maven.org)\n"
     ]
    }
   ],
   "source": [
    "%AddDeps com.quantifind wisp_2.10 0.0.4 --transitive --trace --verbose"
   ]
  },
  {
   "cell_type": "code",
   "execution_count": null,
   "metadata": {
    "collapsed": true
   },
   "outputs": [],
   "source": []
  }
 ],
 "metadata": {
  "kernelspec": {
   "display_name": "Apache Toree - Scala",
   "language": "scala",
   "name": "apache_toree_scala"
  },
  "language_info": {
   "name": "scala"
  },
  "widgets": {
   "state": {},
   "version": "1.1.2"
  }
 },
 "nbformat": 4,
 "nbformat_minor": 0
}
